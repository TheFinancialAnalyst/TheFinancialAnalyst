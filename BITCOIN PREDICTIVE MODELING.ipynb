{
 "cells": [
  {
   "cell_type": "markdown",
   "id": "93c6633c",
   "metadata": {},
   "source": [
    "## INTRODUCTION"
   ]
  },
  {
   "cell_type": "markdown",
   "id": "690dbe71",
   "metadata": {},
   "source": [
    "This is the dataset has been taken from kaggle and the full interpretation and visualization has been done by me, though I had used chatgpt for some parts where some codes are beyond my reach.\n",
    "\n",
    "Data source: - https://www.kaggle.com/datasets/mczielinski/bitcoin-historical-data"
   ]
  },
  {
   "cell_type": "markdown",
   "id": "7b03f079",
   "metadata": {},
   "source": [
    "## Blueprint of the plan"
   ]
  },
  {
   "cell_type": "code",
   "execution_count": 8,
   "id": "1933d4a0",
   "metadata": {
    "scrolled": false
   },
   "outputs": [
    {
     "name": "stdout",
     "output_type": "stream",
     "text": [
      "┌─────────────┐\n",
      "│  [Blueprint]  │\n",
      "└─────────────┘\n",
      "   ┌────────────────────────────┐\n",
      "   │  [Load and Preprocess Data]  │\n",
      "   └────────────────────────────┘\n",
      "      ┌───────────────────────────────┐\n",
      "      │  [Load dataset into DataFrame]  │\n",
      "      └───────────────────────────────┘\n",
      "      ┌─────────────────────────────┐\n",
      "      │  [Drop rows with NaN values]  │\n",
      "      └─────────────────────────────┘\n",
      "      ┌──────────────────────────────────────┐\n",
      "      │  [Define features (X) and target (y)]  │\n",
      "      └──────────────────────────────────────┘\n",
      "      ┌─────────────────────────┐\n",
      "      │  [Apply feature scaling]  │\n",
      "      └─────────────────────────┘\n",
      "      ┌─────────────────────────────────────────────┐\n",
      "      │  [Split data into training and testing sets]  │\n",
      "      └─────────────────────────────────────────────┘\n",
      "   ┌─────────────────────────────────┐\n",
      "   │  [Train Linear Regression Model]  │\n",
      "   └─────────────────────────────────┘\n",
      "      ┌──────────────────────────────────────────────┐\n",
      "      │  [Initialize Linear Regression model (model)]  │\n",
      "      └──────────────────────────────────────────────┘\n",
      "      ┌────────────────────────────────────────┐\n",
      "      │  [Train the model on the training data]  │\n",
      "      └────────────────────────────────────────┘\n",
      "   ┌──────────────────────────────┐\n",
      "   │  [Evaluate Model Performance]  │\n",
      "   └──────────────────────────────┘\n",
      "      ┌────────────────────────────────────┐\n",
      "      │  [Make predictions on testing data]  │\n",
      "      └────────────────────────────────────┘\n",
      "      ┌──────────────────────────────────────┐\n",
      "      │  [Calculate Mean Squared Error (MSE)]  │\n",
      "      └──────────────────────────────────────┘\n",
      "   ┌───────────────────────┐\n",
      "   │  [Predict on New Data]  │\n",
      "   └───────────────────────┘\n",
      "      ┌──────────────────────────────────┐\n",
      "      │  [Prompt user for new data input]  │\n",
      "      └──────────────────────────────────┘\n",
      "      ┌───────────────────────────────────────────┐\n",
      "      │  [Create DataFrame with user-input values]  │\n",
      "      └───────────────────────────────────────────┘\n",
      "      ┌─────────────────────────────────┐\n",
      "      │  [Scale and preprocess new data]  │\n",
      "      └─────────────────────────────────┘\n",
      "      ┌──────────────────────────────────────────────────────────┐\n",
      "      │  [Use trained model to predict target value for new data]  │\n",
      "      └──────────────────────────────────────────────────────────┘\n"
     ]
    }
   ],
   "source": [
    "def generate_hierarchy(node, level=0):\n",
    "    bubble = f\" [{node}] \"\n",
    "    print(\"   \" * level + \"┌\" + \"─\" * len(bubble) + \"┐\")\n",
    "    print(\"   \" * level + \"│{:^{}}│\".format(bubble, len(bubble) + 2))\n",
    "    print(\"   \" * level + \"└\" + \"─\" * len(bubble) + \"┘\")\n",
    "    \n",
    "    if node == \"Blueprint\":\n",
    "        generate_hierarchy(\"Load and Preprocess Data\", level + 1)\n",
    "        generate_hierarchy(\"Train Linear Regression Model\", level + 1)\n",
    "        generate_hierarchy(\"Evaluate Model Performance\", level + 1)\n",
    "        generate_hierarchy(\"Predict on New Data\", level + 1)\n",
    "    \n",
    "    elif node == \"Load and Preprocess Data\":\n",
    "        generate_hierarchy(\"Load dataset into DataFrame\", level + 1)\n",
    "        generate_hierarchy(\"Drop rows with NaN values\", level + 1)\n",
    "        generate_hierarchy(\"Define features (X) and target (y)\", level + 1)\n",
    "        generate_hierarchy(\"Apply feature scaling\", level + 1)\n",
    "        generate_hierarchy(\"Split data into training and testing sets\", level + 1)\n",
    "    \n",
    "    elif node == \"Train Linear Regression Model\":\n",
    "        generate_hierarchy(\"Initialize Linear Regression model (model)\", level + 1)\n",
    "        generate_hierarchy(\"Train the model on the training data\", level + 1)\n",
    "    \n",
    "    elif node == \"Evaluate Model Performance\":\n",
    "        generate_hierarchy(\"Make predictions on testing data\", level + 1)\n",
    "        generate_hierarchy(\"Calculate Mean Squared Error (MSE)\", level + 1)\n",
    "    \n",
    "    elif node == \"Predict on New Data\":\n",
    "        generate_hierarchy(\"Prompt user for new data input\", level + 1)\n",
    "        generate_hierarchy(\"Create DataFrame with user-input values\", level + 1)\n",
    "        generate_hierarchy(\"Scale and preprocess new data\", level + 1)\n",
    "        generate_hierarchy(\"Use trained model to predict target value for new data\", level + 1)\n",
    "\n",
    "def main():\n",
    "    generate_hierarchy(\"Blueprint\")\n",
    "\n",
    "if __name__ == \"__main__\":\n",
    "    main()\n"
   ]
  },
  {
   "cell_type": "code",
   "execution_count": 2,
   "id": "4522ff1a",
   "metadata": {},
   "outputs": [],
   "source": [
    "import pandas as pd \n",
    "import numpy as np \n",
    "import seaborn as sns\n",
    "import matplotlib.pyplot as plt"
   ]
  },
  {
   "cell_type": "code",
   "execution_count": 3,
   "id": "ef753c26",
   "metadata": {},
   "outputs": [],
   "source": [
    "df = pd.read_csv(r'C:\\Users\\Anonymous\\Documents\\bitstampUSD_1-min_data_2012-01-01_to_2021-03-31.csv')"
   ]
  },
  {
   "cell_type": "code",
   "execution_count": 4,
   "id": "f6b6eae9",
   "metadata": {
    "scrolled": false
   },
   "outputs": [
    {
     "data": {
      "text/plain": [
       "<bound method DataFrame.info of           Timestamp      Open      High       Low     Close  Volume_(BTC)  \\\n",
       "0        1325317920      4.39      4.39      4.39      4.39      0.455581   \n",
       "1        1325317980       NaN       NaN       NaN       NaN           NaN   \n",
       "2        1325318040       NaN       NaN       NaN       NaN           NaN   \n",
       "3        1325318100       NaN       NaN       NaN       NaN           NaN   \n",
       "4        1325318160       NaN       NaN       NaN       NaN           NaN   \n",
       "...             ...       ...       ...       ...       ...           ...   \n",
       "4857372  1617148560  58714.31  58714.31  58686.00  58686.00      1.384487   \n",
       "4857373  1617148620  58683.97  58693.43  58683.97  58685.81      7.294848   \n",
       "4857374  1617148680  58693.43  58723.84  58693.43  58723.84      1.705682   \n",
       "4857375  1617148740  58742.18  58770.38  58742.18  58760.59      0.720415   \n",
       "4857376  1617148800  58767.75  58778.18  58755.97  58778.18      2.712831   \n",
       "\n",
       "         Volume_(Currency)  Weighted_Price  \n",
       "0                 2.000000        4.390000  \n",
       "1                      NaN             NaN  \n",
       "2                      NaN             NaN  \n",
       "3                      NaN             NaN  \n",
       "4                      NaN             NaN  \n",
       "...                    ...             ...  \n",
       "4857372       81259.372187    58692.753339  \n",
       "4857373      428158.146640    58693.226508  \n",
       "4857374      100117.070370    58696.198496  \n",
       "4857375       42332.958633    58761.866202  \n",
       "4857376      159417.751000    58764.349363  \n",
       "\n",
       "[4857377 rows x 8 columns]>"
      ]
     },
     "execution_count": 4,
     "metadata": {},
     "output_type": "execute_result"
    }
   ],
   "source": [
    "df.info"
   ]
  },
  {
   "cell_type": "code",
   "execution_count": 5,
   "id": "8ec5e7c5",
   "metadata": {},
   "outputs": [
    {
     "data": {
      "text/plain": [
       "Timestamp             0.00000\n",
       "Open                 25.60246\n",
       "High                 25.60246\n",
       "Low                  25.60246\n",
       "Close                25.60246\n",
       "Volume_(BTC)         25.60246\n",
       "Volume_(Currency)    25.60246\n",
       "Weighted_Price       25.60246\n",
       "dtype: float64"
      ]
     },
     "execution_count": 5,
     "metadata": {},
     "output_type": "execute_result"
    }
   ],
   "source": [
    "df.isnull().mean()*100"
   ]
  },
  {
   "cell_type": "code",
   "execution_count": 6,
   "id": "e73bb4cc",
   "metadata": {},
   "outputs": [
    {
     "data": {
      "text/plain": [
       "Index(['Timestamp', 'Open', 'High', 'Low', 'Close', 'Volume_(BTC)',\n",
       "       'Volume_(Currency)', 'Weighted_Price'],\n",
       "      dtype='object')"
      ]
     },
     "execution_count": 6,
     "metadata": {},
     "output_type": "execute_result"
    }
   ],
   "source": [
    "df.columns"
   ]
  },
  {
   "cell_type": "markdown",
   "id": "cc3a877e",
   "metadata": {},
   "source": [
    "## Predictive Model"
   ]
  },
  {
   "cell_type": "markdown",
   "id": "1a48b329",
   "metadata": {},
   "source": [
    "### Here you can enter the values for the open, high, low, close, volume of BTC and weighted price and after that you will get the value of volume of currency traded in future."
   ]
  },
  {
   "cell_type": "code",
   "execution_count": null,
   "id": "d90ba053",
   "metadata": {
    "scrolled": true
   },
   "outputs": [
    {
     "name": "stdout",
     "output_type": "stream",
     "text": [
      "Mean Squared Error: 11677888354.938972\n"
     ]
    }
   ],
   "source": [
    "import pandas as pd\n",
    "from sklearn.model_selection import train_test_split\n",
    "from sklearn.linear_model import LinearRegression\n",
    "from sklearn.metrics import mean_squared_error\n",
    "from sklearn.preprocessing import StandardScaler\n",
    "\n",
    "# Assuming you've already loaded the data into df\n",
    "# Drop rows with NaN values\n",
    "df.dropna(inplace=True)\n",
    "\n",
    "# Select features (X) and target (y)\n",
    "features = ['Open', 'High', 'Low', 'Close', 'Volume_(BTC)', 'Weighted_Price']\n",
    "target = 'Volume_(Currency)'\n",
    "\n",
    "X = df[features]\n",
    "y = df[target]\n",
    "\n",
    "# Feature scaling\n",
    "scaler = StandardScaler()\n",
    "X_scaled = scaler.fit_transform(X)\n",
    "\n",
    "# Split data into training and testing sets\n",
    "X_train, X_test, y_train, y_test = train_test_split(X_scaled, y, test_size=0.2, random_state=42)\n",
    "\n",
    "# Initialize the Linear Regression model\n",
    "model = LinearRegression()\n",
    "\n",
    "# Train the model on the training data\n",
    "model.fit(X_train, y_train)\n",
    "\n",
    "# Make predictions on the testing data\n",
    "y_pred = model.predict(X_test)\n",
    "\n",
    "# Calculate the mean squared error\n",
    "mse = mean_squared_error(y_test, y_pred)\n",
    "print(f\"Mean Squared Error: {mse}\")\n",
    "\n",
    "# Take user input for new data values\n",
    "new_open_value = float(input(\"Enter Open value: \"))\n",
    "new_high_value = float(input(\"Enter High value: \"))\n",
    "new_low_value = float(input(\"Enter Low value: \"))\n",
    "new_close_value = float(input(\"Enter Close value: \"))\n",
    "new_volume_btc_value = float(input(\"Enter Volume_(BTC) value: \"))\n",
    "new_weighted_price_value = float(input(\"Enter Weighted_Price value: \"))\n",
    "\n",
    "# Create a DataFrame with the user-input values\n",
    "new_data = pd.DataFrame({\n",
    "    'Open': [new_open_value],\n",
    "    'High': [new_high_value],\n",
    "    'Low': [new_low_value],\n",
    "    'Close': [new_close_value],\n",
    "    'Volume_(BTC)': [new_volume_btc_value],\n",
    "    'Weighted_Price': [new_weighted_price_value]\n",
    "})\n",
    "\n",
    "# Handle missing values and scale new data\n",
    "new_data.dropna(inplace=True)\n",
    "new_data_scaled = scaler.transform(new_data)\n",
    "\n",
    "# Make predictions on the new data\n",
    "predicted_volume = model.predict(new_data_scaled)\n",
    "print(f\"Predicted Volume_(Currency): {predicted_volume}\")\n"
   ]
  },
  {
   "cell_type": "markdown",
   "id": "b2f4e368",
   "metadata": {},
   "source": [
    "## Import Libraries:\n",
    "Begin by bringing in the tools needed for your analysis. These libraries are like toolkits that contain functions for data manipulation, machine learning, and creating visualizations.\n",
    "\n",
    "## Load and Prepare Data:\n",
    "Assume you have your financial data in a structured format. Start by tidying up the data, making sure there aren't any gaps or missing entries that could lead to confusion later.\n",
    "\n",
    "## Choose Features and Target:\n",
    "Decide which aspects of the data are important for making predictions. For instance, you might pick variables like the starting price ('Open'), the highest price ('High'), the lowest price ('Low'), the final price ('Close'), the traded volume in Bitcoin ('Volume_(BTC)'), and the weighted price ('Weighted_Price'). The thing you're aiming to predict, like the currency volume ('Volume_(Currency)'), becomes the target.\n",
    "\n",
    "## Scale Features:\n",
    "To make sure the different variables are playing on a level field, apply a transformation so that they're all in a similar range. This helps the prediction process work better.\n",
    "\n",
    "## Divide into Training and Testing Sets:\n",
    "Divide the data into two parts. One part will be used to teach the algorithm how to make predictions ('training set'), and the other part will be used to test how well it learned ('testing set'). A common split is 80% for training and 20% for testing.\n",
    "\n",
    "## Prepare and Train the Model:\n",
    "Set up the prediction tool, which in this case is a Linear Regression model. Use the training data to 'teach' the model how to predict the target based on the features you've chosen.\n",
    "\n",
    "## Predict and Evaluate:\n",
    "Once the model is trained, it's time to see how well it does. Have it make predictions on the testing set and measure how close its predictions are to the actual results. The 'Mean Squared Error' gives you a sense of how accurate the predictions are.\n",
    "\n",
    "## Predict with New Data:\n",
    "Imagine you have new data about a financial situation. Enter the relevant numbers, like the opening and closing prices, the trading volume, and the weighted price. These become the 'input' for the model.\n",
    "\n",
    "## Prepare New Data and Predict:\n",
    "Just as you cleaned up and transformed the original data, do the same for the new data. This makes sure it's in a format the model understands. Then, use the model you trained earlier to predict the currency volume for this new scenario."
   ]
  },
  {
   "cell_type": "markdown",
   "id": "e088a5f3",
   "metadata": {},
   "source": [
    "_ _ _"
   ]
  }
 ],
 "metadata": {
  "kernelspec": {
   "display_name": "Python 3 (ipykernel)",
   "language": "python",
   "name": "python3"
  },
  "language_info": {
   "codemirror_mode": {
    "name": "ipython",
    "version": 3
   },
   "file_extension": ".py",
   "mimetype": "text/x-python",
   "name": "python",
   "nbconvert_exporter": "python",
   "pygments_lexer": "ipython3",
   "version": "3.9.13"
  }
 },
 "nbformat": 4,
 "nbformat_minor": 5
}
