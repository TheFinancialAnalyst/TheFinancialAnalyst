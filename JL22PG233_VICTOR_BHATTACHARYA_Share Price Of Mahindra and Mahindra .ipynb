{
 "cells": [
  {
   "cell_type": "markdown",
   "id": "511c4559",
   "metadata": {},
   "source": [
    "# Share Price Of Mahindra and Mahindra "
   ]
  },
  {
   "cell_type": "markdown",
   "id": "34763613",
   "metadata": {},
   "source": [
    "\n",
    "Several factors, including economic conditions, political stability, global economic trends, and investor sentiment, contribute to India's stock market volatility.\n",
    "The stock market's volatility is largely determined by the state of the economy. The stock market can be significantly affected by fiscal policies, inflation, interest rates, GDP growth, and other factors. For example, high interest rates or inflation can make it harder for consumers to buy things, which reduces demand for goods and services and ultimately reduces profits for businesses, which has an effect on stock prices. In a similar vein, stock prices can rise as a result of an increase in investor confidence and a positive GDP growth rate.\n",
    "The volatility of the stock market is also influenced by political stability. Investor confidence can be impacted by political instability, such as frequent policy shifts or corruption, which can cause stock prices to fall. On the other hand, stock prices can rise as a result of an improvement in the political climate and an increase in investor confidence.\n",
    "India's stock market volatility is also significantly influenced by global economic trends. The Indian stock market can be affected in a big way by changes in major economies like the US, China, and Europe. For instance, the Indian stock market was significantly affected by the 2008 global economic recession, which resulted in a sharp decline in stock prices.\n",
    "Volatility in the stock market can also be influenced by investor sentiments. News events, earnings reports from companies, and market rumors all have an impact on investor sentiment. Stock prices can rise as a result of bullish market sentiment caused by positive news events or strong earnings reports. On the other hand, negative news occasions or powerless profit reports can prompt a negative market feeling, prompting a decrease in stock costs.\n",
    "\n",
    "To summarize, investor sentiments, economic conditions, political stability, global economic trends, and the complexity of the Indian stock market all play a role in its volatility. To make well-informed decisions regarding investments, one must have a comprehensive understanding of these factors."
   ]
  },
  {
   "cell_type": "code",
   "execution_count": 6,
   "id": "a9cec24c",
   "metadata": {},
   "outputs": [],
   "source": [
    "import pandas as pd\n",
    "import numpy as np"
   ]
  },
  {
   "cell_type": "code",
   "execution_count": 7,
   "id": "1d570bb1",
   "metadata": {},
   "outputs": [],
   "source": [
    "import statsmodels.api as sm"
   ]
  },
  {
   "cell_type": "code",
   "execution_count": 13,
   "id": "51afc870",
   "metadata": {},
   "outputs": [],
   "source": [
    "#import the CSV\n",
    "\n",
    "mnm = pd.read_csv('Mahindra.csv')"
   ]
  },
  {
   "cell_type": "code",
   "execution_count": 14,
   "id": "4a72b43d",
   "metadata": {},
   "outputs": [
    {
     "name": "stdout",
     "output_type": "stream",
     "text": [
      "<class 'pandas.core.frame.DataFrame'>\n",
      "RangeIndex: 2484 entries, 0 to 2483\n",
      "Data columns (total 10 columns):\n",
      " #   Column                    Non-Null Count  Dtype  \n",
      "---  ------                    --------------  -----  \n",
      " 0   Date                      2484 non-null   float64\n",
      " 1   Open                      2484 non-null   float64\n",
      " 2   High                      2484 non-null   float64\n",
      " 3   Low                       2484 non-null   float64\n",
      " 4   Close                     2484 non-null   float64\n",
      " 5   Volume                    2484 non-null   float64\n",
      " 6   No of Trades              2484 non-null   float64\n",
      " 7   Net Turnover In Thousand  2484 non-null   float64\n",
      " 8   Market Cap                2484 non-null   float64\n",
      " 9   Sensex                    2484 non-null   float64\n",
      "dtypes: float64(10)\n",
      "memory usage: 194.2 KB\n"
     ]
    }
   ],
   "source": [
    "mnm.info()\n"
   ]
  },
  {
   "cell_type": "code",
   "execution_count": 15,
   "id": "81eb9f99",
   "metadata": {},
   "outputs": [
    {
     "data": {
      "text/plain": [
       "Date                        float64\n",
       "Open                        float64\n",
       "High                        float64\n",
       "Low                         float64\n",
       "Close                       float64\n",
       "Volume                      float64\n",
       "No of Trades                float64\n",
       "Net Turnover In Thousand    float64\n",
       "Market Cap                  float64\n",
       "Sensex                      float64\n",
       "dtype: object"
      ]
     },
     "execution_count": 15,
     "metadata": {},
     "output_type": "execute_result"
    }
   ],
   "source": [
    "mnm.dtypes\n",
    "\n"
   ]
  },
  {
   "cell_type": "code",
   "execution_count": 16,
   "id": "812d7f96",
   "metadata": {},
   "outputs": [],
   "source": [
    "import matplotlib.pyplot as plt\n",
    "import seaborn as sns"
   ]
  },
  {
   "cell_type": "code",
   "execution_count": 18,
   "id": "85341d14",
   "metadata": {},
   "outputs": [],
   "source": [
    "linear_model = sm.OLS(v,mnm['Sensex']).fit()"
   ]
  },
  {
   "cell_type": "code",
   "execution_count": 20,
   "id": "f3f180ad",
   "metadata": {},
   "outputs": [
    {
     "data": {
      "text/html": [
       "<table class=\"simpletable\">\n",
       "<caption>OLS Regression Results</caption>\n",
       "<tr>\n",
       "  <th>Dep. Variable:</th>          <td>Close</td>      <th>  R-squared (uncentered):</th>      <td>   0.957</td> \n",
       "</tr>\n",
       "<tr>\n",
       "  <th>Model:</th>                   <td>OLS</td>       <th>  Adj. R-squared (uncentered):</th> <td>   0.957</td> \n",
       "</tr>\n",
       "<tr>\n",
       "  <th>Method:</th>             <td>Least Squares</td>  <th>  F-statistic:       </th>          <td>5.577e+04</td>\n",
       "</tr>\n",
       "<tr>\n",
       "  <th>Date:</th>             <td>Fri, 21 Apr 2023</td> <th>  Prob (F-statistic):</th>           <td>  0.00</td>  \n",
       "</tr>\n",
       "<tr>\n",
       "  <th>Time:</th>                 <td>14:56:39</td>     <th>  Log-Likelihood:    </th>          <td> -16007.</td> \n",
       "</tr>\n",
       "<tr>\n",
       "  <th>No. Observations:</th>      <td>  2484</td>      <th>  AIC:               </th>          <td>3.202e+04</td>\n",
       "</tr>\n",
       "<tr>\n",
       "  <th>Df Residuals:</th>          <td>  2483</td>      <th>  BIC:               </th>          <td>3.202e+04</td>\n",
       "</tr>\n",
       "<tr>\n",
       "  <th>Df Model:</th>              <td>     1</td>      <th>                     </th>              <td> </td>    \n",
       "</tr>\n",
       "<tr>\n",
       "  <th>Covariance Type:</th>      <td>nonrobust</td>    <th>                     </th>              <td> </td>    \n",
       "</tr>\n",
       "</table>\n",
       "<table class=\"simpletable\">\n",
       "<tr>\n",
       "     <td></td>       <th>coef</th>     <th>std err</th>      <th>t</th>      <th>P>|t|</th>  <th>[0.025</th>    <th>0.975]</th>  \n",
       "</tr>\n",
       "<tr>\n",
       "  <th>Sensex</th> <td>    0.0188</td> <td> 7.95e-05</td> <td>  236.151</td> <td> 0.000</td> <td>    0.019</td> <td>    0.019</td>\n",
       "</tr>\n",
       "</table>\n",
       "<table class=\"simpletable\">\n",
       "<tr>\n",
       "  <th>Omnibus:</th>       <td>342.908</td> <th>  Durbin-Watson:     </th> <td>   0.005</td>\n",
       "</tr>\n",
       "<tr>\n",
       "  <th>Prob(Omnibus):</th> <td> 0.000</td>  <th>  Jarque-Bera (JB):  </th> <td> 267.558</td>\n",
       "</tr>\n",
       "<tr>\n",
       "  <th>Skew:</th>          <td>-0.708</td>  <th>  Prob(JB):          </th> <td>7.95e-59</td>\n",
       "</tr>\n",
       "<tr>\n",
       "  <th>Kurtosis:</th>      <td> 2.240</td>  <th>  Cond. No.          </th> <td>    1.00</td>\n",
       "</tr>\n",
       "</table><br/><br/>Notes:<br/>[1] R² is computed without centering (uncentered) since the model does not contain a constant.<br/>[2] Standard Errors assume that the covariance matrix of the errors is correctly specified."
      ],
      "text/plain": [
       "<class 'statsmodels.iolib.summary.Summary'>\n",
       "\"\"\"\n",
       "                                 OLS Regression Results                                \n",
       "=======================================================================================\n",
       "Dep. Variable:                  Close   R-squared (uncentered):                   0.957\n",
       "Model:                            OLS   Adj. R-squared (uncentered):              0.957\n",
       "Method:                 Least Squares   F-statistic:                          5.577e+04\n",
       "Date:                Fri, 21 Apr 2023   Prob (F-statistic):                        0.00\n",
       "Time:                        14:56:39   Log-Likelihood:                         -16007.\n",
       "No. Observations:                2484   AIC:                                  3.202e+04\n",
       "Df Residuals:                    2483   BIC:                                  3.202e+04\n",
       "Df Model:                           1                                                  \n",
       "Covariance Type:            nonrobust                                                  \n",
       "==============================================================================\n",
       "                 coef    std err          t      P>|t|      [0.025      0.975]\n",
       "------------------------------------------------------------------------------\n",
       "Sensex         0.0188   7.95e-05    236.151      0.000       0.019       0.019\n",
       "==============================================================================\n",
       "Omnibus:                      342.908   Durbin-Watson:                   0.005\n",
       "Prob(Omnibus):                  0.000   Jarque-Bera (JB):              267.558\n",
       "Skew:                          -0.708   Prob(JB):                     7.95e-59\n",
       "Kurtosis:                       2.240   Cond. No.                         1.00\n",
       "==============================================================================\n",
       "\n",
       "Notes:\n",
       "[1] R² is computed without centering (uncentered) since the model does not contain a constant.\n",
       "[2] Standard Errors assume that the covariance matrix of the errors is correctly specified.\n",
       "\"\"\""
      ]
     },
     "execution_count": 20,
     "metadata": {},
     "output_type": "execute_result"
    }
   ],
   "source": [
    "linear_model.summary()"
   ]
  },
  {
   "cell_type": "markdown",
   "id": "4ab18b5f",
   "metadata": {},
   "source": [
    "### The above method is wrong as evident from the lack of constant term in model"
   ]
  },
  {
   "cell_type": "code",
   "execution_count": 22,
   "id": "d9d3ce80",
   "metadata": {},
   "outputs": [],
   "source": [
    "#Right way to do it\n",
    "\n",
    "#define y and x and use them\n",
    "\n",
    "x = mnm['Sensex']\n",
    "y = mnm['Close']\n",
    "\n",
    "x = sm.add_constant(x)"
   ]
  },
  {
   "cell_type": "code",
   "execution_count": 23,
   "id": "6ee739a4",
   "metadata": {},
   "outputs": [],
   "source": [
    "linear_model = sm.OLS(y,x).fit()"
   ]
  },
  {
   "cell_type": "code",
   "execution_count": 24,
   "id": "7d3442a0",
   "metadata": {
    "scrolled": false
   },
   "outputs": [
    {
     "data": {
      "text/html": [
       "<table class=\"simpletable\">\n",
       "<caption>OLS Regression Results</caption>\n",
       "<tr>\n",
       "  <th>Dep. Variable:</th>          <td>Close</td>      <th>  R-squared:         </th> <td>   0.601</td> \n",
       "</tr>\n",
       "<tr>\n",
       "  <th>Model:</th>                   <td>OLS</td>       <th>  Adj. R-squared:    </th> <td>   0.601</td> \n",
       "</tr>\n",
       "<tr>\n",
       "  <th>Method:</th>             <td>Least Squares</td>  <th>  F-statistic:       </th> <td>   3739.</td> \n",
       "</tr>\n",
       "<tr>\n",
       "  <th>Date:</th>             <td>Fri, 21 Apr 2023</td> <th>  Prob (F-statistic):</th>  <td>  0.00</td>  \n",
       "</tr>\n",
       "<tr>\n",
       "  <th>Time:</th>                 <td>15:00:06</td>     <th>  Log-Likelihood:    </th> <td> -15656.</td> \n",
       "</tr>\n",
       "<tr>\n",
       "  <th>No. Observations:</th>      <td>  2484</td>      <th>  AIC:               </th> <td>3.132e+04</td>\n",
       "</tr>\n",
       "<tr>\n",
       "  <th>Df Residuals:</th>          <td>  2482</td>      <th>  BIC:               </th> <td>3.133e+04</td>\n",
       "</tr>\n",
       "<tr>\n",
       "  <th>Df Model:</th>              <td>     1</td>      <th>                     </th>     <td> </td>    \n",
       "</tr>\n",
       "<tr>\n",
       "  <th>Covariance Type:</th>      <td>nonrobust</td>    <th>                     </th>     <td> </td>    \n",
       "</tr>\n",
       "</table>\n",
       "<table class=\"simpletable\">\n",
       "<tr>\n",
       "     <td></td>       <th>coef</th>     <th>std err</th>      <th>t</th>      <th>P>|t|</th>  <th>[0.025</th>    <th>0.975]</th>  \n",
       "</tr>\n",
       "<tr>\n",
       "  <th>const</th>  <td>  233.0134</td> <td>    8.189</td> <td>   28.456</td> <td> 0.000</td> <td>  216.956</td> <td>  249.071</td>\n",
       "</tr>\n",
       "<tr>\n",
       "  <th>Sensex</th> <td>    0.0130</td> <td>    0.000</td> <td>   61.146</td> <td> 0.000</td> <td>    0.013</td> <td>    0.013</td>\n",
       "</tr>\n",
       "</table>\n",
       "<table class=\"simpletable\">\n",
       "<tr>\n",
       "  <th>Omnibus:</th>       <td> 8.354</td> <th>  Durbin-Watson:     </th> <td>   0.007</td>\n",
       "</tr>\n",
       "<tr>\n",
       "  <th>Prob(Omnibus):</th> <td> 0.015</td> <th>  Jarque-Bera (JB):  </th> <td>   7.890</td>\n",
       "</tr>\n",
       "<tr>\n",
       "  <th>Skew:</th>          <td> 0.104</td> <th>  Prob(JB):          </th> <td>  0.0193</td>\n",
       "</tr>\n",
       "<tr>\n",
       "  <th>Kurtosis:</th>      <td> 2.818</td> <th>  Cond. No.          </th> <td>1.19e+05</td>\n",
       "</tr>\n",
       "</table><br/><br/>Notes:<br/>[1] Standard Errors assume that the covariance matrix of the errors is correctly specified.<br/>[2] The condition number is large, 1.19e+05. This might indicate that there are<br/>strong multicollinearity or other numerical problems."
      ],
      "text/plain": [
       "<class 'statsmodels.iolib.summary.Summary'>\n",
       "\"\"\"\n",
       "                            OLS Regression Results                            \n",
       "==============================================================================\n",
       "Dep. Variable:                  Close   R-squared:                       0.601\n",
       "Model:                            OLS   Adj. R-squared:                  0.601\n",
       "Method:                 Least Squares   F-statistic:                     3739.\n",
       "Date:                Fri, 21 Apr 2023   Prob (F-statistic):               0.00\n",
       "Time:                        15:00:06   Log-Likelihood:                -15656.\n",
       "No. Observations:                2484   AIC:                         3.132e+04\n",
       "Df Residuals:                    2482   BIC:                         3.133e+04\n",
       "Df Model:                           1                                         \n",
       "Covariance Type:            nonrobust                                         \n",
       "==============================================================================\n",
       "                 coef    std err          t      P>|t|      [0.025      0.975]\n",
       "------------------------------------------------------------------------------\n",
       "const        233.0134      8.189     28.456      0.000     216.956     249.071\n",
       "Sensex         0.0130      0.000     61.146      0.000       0.013       0.013\n",
       "==============================================================================\n",
       "Omnibus:                        8.354   Durbin-Watson:                   0.007\n",
       "Prob(Omnibus):                  0.015   Jarque-Bera (JB):                7.890\n",
       "Skew:                           0.104   Prob(JB):                       0.0193\n",
       "Kurtosis:                       2.818   Cond. No.                     1.19e+05\n",
       "==============================================================================\n",
       "\n",
       "Notes:\n",
       "[1] Standard Errors assume that the covariance matrix of the errors is correctly specified.\n",
       "[2] The condition number is large, 1.19e+05. This might indicate that there are\n",
       "strong multicollinearity or other numerical problems.\n",
       "\"\"\""
      ]
     },
     "execution_count": 24,
     "metadata": {},
     "output_type": "execute_result"
    }
   ],
   "source": [
    "linear_model.summary()"
   ]
  },
  {
   "cell_type": "markdown",
   "id": "8136df02",
   "metadata": {},
   "source": [
    "### 60% of the movement in price of the stock is explained by the movement in broad markets (as seen using Sensex)"
   ]
  },
  {
   "cell_type": "markdown",
   "id": "f1951690",
   "metadata": {},
   "source": [
    "## Descriptive Statistics\n",
    "R-squared simply indicates how well a regression model fits the data. A perfect fit is indicated by an R-squared value of 1, which indicates that the independent variable can account for all of the variation in the dependent variable. In contrast, an R-squared value of 0 indicates that the independent variable's variation cannot account for all of the variation in the dependent variable.\n",
    "\n",
    "In finance, R-squared is many times used to quantify the connection between stock costs and market files like the Sensex in India. A stock's performance is strongly correlated with the market's performance if the R-squared value between the stock and the Sensex is high. On the other hand, a low R-squared value indicates that the stock's performance is not closely linked to the market as a whole.\n",
    "\n",
    "Let's take Mahindra, a company on the Sensex, as an example. As a result, we have compiled information regarding the Sensex and Mahindra stock's daily closing prices over time. We can then utilize relapse investigation to figure out the connection between Mahindra's stock cost and the Sensex.\n",
    "\n",
    "Let's say we conduct a regression analysis and determine that the correlation between the Sensex and Mahindra's stock price is 0.601. This indicates that the Sensex's fluctuation can account for 60.1% of the variation in Mahindra's stock price. In other words, there is a moderate correlation between the performance of the market as a whole and the price of Mahindra's stock. However, the Sensex fluctuation does not account for all of the other factors that affect Mahindra's stock price.\n",
    "\n",
    "Let's now contrast this with the Sensex's R-squared value. Let's say we conduct a regression analysis on the Sensex's daily closing prices and come up with a value of 0.957 for the R-squared. This indicates that the factors that have an effect on the market as a whole account for 95.7 percent of the Sensex's variation. To put it another way, the Sensex's performance is significantly influenced by the market as a whole.\n",
    "\n",
    "We can learn a lot about the nature of the connection between individual stocks and the market as a whole from the difference in the R-squared values of Mahindra's stock and the Sensex. The overall market has a much stronger impact on the performance of the market as a whole than the performance of individual stocks, which is influenced by numerous factors, including company-specific factors like earnings and management decisions.\n",
    "\n",
    "In practice, investors make investment decisions based on R-squared values. For instance, a financial backer who is keen on putting resources into Mahindra's stock might take a gander at the R-squared worth to decide how intently the stock's exhibition is attached to the presentation of the general market. If the R-squared value is high, an investor who believes the market as a whole will perform well may conclude that Mahindra's stock is a good investment. Then again, if the R-squared esteem is low, the financial backer might infer that Mahindra's stock is a hazardous speculation, as the stock's presentation might be impacted by factors other than the general market."
   ]
  }
 ],
 "metadata": {
  "kernelspec": {
   "display_name": "Python 3 (ipykernel)",
   "language": "python",
   "name": "python3"
  },
  "language_info": {
   "codemirror_mode": {
    "name": "ipython",
    "version": 3
   },
   "file_extension": ".py",
   "mimetype": "text/x-python",
   "name": "python",
   "nbconvert_exporter": "python",
   "pygments_lexer": "ipython3",
   "version": "3.9.13"
  }
 },
 "nbformat": 4,
 "nbformat_minor": 5
}
